{
 "cells": [
  {
   "cell_type": "markdown",
   "metadata": {},
   "source": [
    "# Xskipper -  Extensible Data Skipping Framework for Apache Spark"
   ]
  },
  {
   "cell_type": "markdown",
   "metadata": {},
   "source": [
    "In this notebook, we demonstrate the use of Xskipper Python API.\n",
    "\n",
    "Data skipping can significantly boost the performance of SQL queries by skipping over irrelevant data objects or files based on summary metadata associated with each object.  \n",
    "For each object's column, the summary metadata might include minimum and maximum values, a list or bloom filter of the appearing values, or other metadata which succinctly represents the data in that column. This metadata is used during query evaluation to skip over objects which have no relevant data.\n",
    "\n",
    "To use this feature, you need to create indexes on one or more columns of the data set. Once indexed, Spark SQL queries can benefit from data skipping. In general, you should index the columns which are queried most often in the WHERE clause.\n",
    "\n",
    "Note that all Spark native data formats are supported, including Parquet, ORC, CSV, JSON and Avro. Data skipping is a performance optimization feature, meaning the use of data skipping does not affect the content of the query results."
   ]
  },
  {
   "cell_type": "markdown",
   "metadata": {},
   "source": [
    "## Table of Contents\n",
    "\n",
    "- [Setup](#setup)\n",
    "- [Indexing a Dataset](#indexing_dataset)\n",
    "- [Index Usage](#using)\n",
    "- [Index Life Cycle](#index_life_cycle)\n",
    "- [Working with Hive Tables](#hive_tables)"
   ]
  },
  {
   "cell_type": "markdown",
   "metadata": {},
   "source": [
    "## Setup <a id='setup'></a>"
   ]
  },
  {
   "cell_type": "markdown",
   "metadata": {},
   "source": [
    "In this example, we set a JVM wide parameter with a base path to store all the indexes.  \n",
    "Note it's possible to store the metadata on the same storage system as the data but not under the same path.\n",
    "\n",
    "In the following examples we will use [IBM Cloud Object Storage](https://www.ibm.com/il-en/cloud/object-storage) to store both the data and the metadata.  \n",
    "(The cells below assume the credentials were already set, for more information about setting credentials when using IBM Cloud Object Storage see [Stocator Storage Connector](https://github.com/CODAIT/stocator).\n",
    "\n",
    "During query time the metdata for the dataset will be looked up in this location\n",
    "\n",
    "For more configuration options, see [Data skipping configuration options](https://xskipper-io.github.io/xskipper/api/configuration/configuration/)."
   ]
  },
  {
   "cell_type": "code",
   "execution_count": 3,
   "metadata": {},
   "outputs": [
    {
     "data": {
      "text/plain": [
       "<pyspark.conf.SparkConf at 0x7fda2866da20>"
      ]
     },
     "execution_count": 3,
     "metadata": {},
     "output_type": "execute_result"
    }
   ],
   "source": [
    "from pyspark import SparkConf\n",
    "import os\n",
    "\n",
    "os.environ['PYSPARK_SUBMIT_ARGS'] = \\\n",
    " '--conf spark.cores.max=2 --conf spark.executor.instances=2 --conf spark.executor.memory=1G --conf spark.executor.cores=1 --conf spark.driver.memory=2G --packages com.amazonaws:aws-java-sdk:1.7.4,org.apache.hadoop:hadoop-aws:2.7.3,io.xskipper:xskipper-core_2.12:1.2.3,com.ibm.stocator:stocator:1.1.1 pyspark-shell'\n",
    "\n",
    "# Instantiate a spark configuration object to receive settings\n",
    "spark_conf = SparkConf()\n",
    "\n",
    "# This section was replaced by above os.environ\n",
    "# Maven coordinates for package containing JDBC drivers\n",
    "jdbc_driver_packages = 'io.xskipper:xskipper-core_2.12:1.2.3,com.ibm.stocator:stocator:1.1.1'\n",
    "\n",
    "# Configure spark to see the postgresql driver package\n",
    "spark_conf.set('spark.jars.packages', jdbc_driver_packages)\n"
   ]
  },
  {
   "cell_type": "code",
   "execution_count": 4,
   "metadata": {},
   "outputs": [],
   "source": [
    "from pyspark.sql import SparkSession\n",
    "spark_cluster_url = f\"spark://{os.environ['SPARK_CLUSTER']}:7077\"\n",
    "    \n",
    "# sc.stop()\n",
    "    \n",
    "# Configure some basic spark cluster sizing parameters\n",
    "spark_conf.set('spark.cores.max', 1)\n",
    "spark_conf.set('spark.executor.cores', '1')\n",
    "spark = SparkSession.builder \\\n",
    "    .master(spark_cluster_url) \\\n",
    "    .appName('Spark3.0.1-XSKIPPER1.0-Demo') \\\n",
    "    .config(conf = spark_conf) \\\n",
    "    .enableHiveSupport() \\\n",
    "    .getOrCreate()"
   ]
  },
  {
   "cell_type": "code",
   "execution_count": 5,
   "metadata": {},
   "outputs": [],
   "source": [
    "# spark.sparkContext.addPyFile(\"./xskipper-core_2.11-1.1.1.jar\")"
   ]
  },
  {
   "cell_type": "code",
   "execution_count": 6,
   "metadata": {},
   "outputs": [
    {
     "name": "stdout",
     "output_type": "stream",
     "text": [
      "file:///opt/app-root/src/.ivy2/jars/org.apache.hadoop_hadoop-aws-2.7.3.jar,file:///opt/app-root/src/.ivy2/jars/io.xskipper_xskipper-core_2.11-1.1.1.jar,file:///opt/app-root/src/.ivy2/jars/com.ibm.stocator_stocator-1.1.1.jar,file:///opt/app-root/src/.ivy2/jars/joda-time_joda-time-2.10.10.jar,file:///opt/app-root/src/.ivy2/jars/org.apache.hadoop_hadoop-common-2.7.3.jar,file:///opt/app-root/src/.ivy2/jars/org.apache.hadoop_hadoop-annotations-2.7.3.jar,file:///opt/app-root/src/.ivy2/jars/commons-cli_commons-cli-1.2.jar,file:///opt/app-root/src/.ivy2/jars/org.apache.commons_commons-math3-3.1.1.jar,file:///opt/app-root/src/.ivy2/jars/xmlenc_xmlenc-0.52.jar,file:///opt/app-root/src/.ivy2/jars/commons-httpclient_commons-httpclient-3.1.jar,file:///opt/app-root/src/.ivy2/jars/commons-net_commons-net-3.1.jar,file:///opt/app-root/src/.ivy2/jars/commons-collections_commons-collections-3.2.2.jar,file:///opt/app-root/src/.ivy2/jars/javax.servlet_servlet-api-2.5.jar,file:///opt/app-root/src/.ivy2/jars/org.mortbay.jetty_jetty-6.1.26.jar,file:///opt/app-root/src/.ivy2/jars/org.mortbay.jetty_jetty-util-6.1.26.jar,file:///opt/app-root/src/.ivy2/jars/com.sun.jersey_jersey-core-1.9.jar,file:///opt/app-root/src/.ivy2/jars/com.sun.jersey_jersey-json-1.9.jar,file:///opt/app-root/src/.ivy2/jars/com.sun.jersey_jersey-server-1.9.jar,file:///opt/app-root/src/.ivy2/jars/commons-logging_commons-logging-1.1.3.jar,file:///opt/app-root/src/.ivy2/jars/log4j_log4j-1.2.17.jar,file:///opt/app-root/src/.ivy2/jars/net.java.dev.jets3t_jets3t-0.9.0.jar,file:///opt/app-root/src/.ivy2/jars/commons-lang_commons-lang-2.6.jar,file:///opt/app-root/src/.ivy2/jars/commons-configuration_commons-configuration-1.6.jar,file:///opt/app-root/src/.ivy2/jars/org.slf4j_slf4j-api-1.7.10.jar,file:///opt/app-root/src/.ivy2/jars/org.codehaus.jackson_jackson-core-asl-1.9.13.jar,file:///opt/app-root/src/.ivy2/jars/org.codehaus.jackson_jackson-mapper-asl-1.9.13.jar,file:///opt/app-root/src/.ivy2/jars/org.apache.avro_avro-1.7.4.jar,file:///opt/app-root/src/.ivy2/jars/com.google.protobuf_protobuf-java-2.5.0.jar,file:///opt/app-root/src/.ivy2/jars/com.google.code.gson_gson-2.2.4.jar,file:///opt/app-root/src/.ivy2/jars/org.apache.hadoop_hadoop-auth-2.7.3.jar,file:///opt/app-root/src/.ivy2/jars/com.jcraft_jsch-0.1.42.jar,file:///opt/app-root/src/.ivy2/jars/org.apache.curator_curator-client-2.7.1.jar,file:///opt/app-root/src/.ivy2/jars/org.apache.curator_curator-recipes-2.7.1.jar,file:///opt/app-root/src/.ivy2/jars/org.apache.htrace_htrace-core-3.1.0-incubating.jar,file:///opt/app-root/src/.ivy2/jars/org.apache.zookeeper_zookeeper-3.4.6.jar,file:///opt/app-root/src/.ivy2/jars/org.apache.commons_commons-compress-1.4.1.jar,file:///opt/app-root/src/.ivy2/jars/org.codehaus.jettison_jettison-1.1.jar,file:///opt/app-root/src/.ivy2/jars/com.sun.xml.bind_jaxb-impl-2.2.3-1.jar,file:///opt/app-root/src/.ivy2/jars/org.codehaus.jackson_jackson-jaxrs-1.9.13.jar,file:///opt/app-root/src/.ivy2/jars/org.codehaus.jackson_jackson-xc-1.9.13.jar,file:///opt/app-root/src/.ivy2/jars/javax.xml.bind_jaxb-api-2.2.2.jar,file:///opt/app-root/src/.ivy2/jars/javax.xml.stream_stax-api-1.0-2.jar,file:///opt/app-root/src/.ivy2/jars/javax.activation_activation-1.1.jar,file:///opt/app-root/src/.ivy2/jars/asm_asm-3.2.jar,file:///opt/app-root/src/.ivy2/jars/com.jamesmurty.utils_java-xmlbuilder-0.4.jar,file:///opt/app-root/src/.ivy2/jars/commons-beanutils_commons-beanutils-core-1.8.0.jar,file:///opt/app-root/src/.ivy2/jars/com.thoughtworks.paranamer_paranamer-2.3.jar,file:///opt/app-root/src/.ivy2/jars/org.xerial.snappy_snappy-java-1.0.4.1.jar,file:///opt/app-root/src/.ivy2/jars/org.tukaani_xz-1.0.jar,file:///opt/app-root/src/.ivy2/jars/org.apache.directory.server_apacheds-kerberos-codec-2.0.0-M15.jar,file:///opt/app-root/src/.ivy2/jars/org.apache.curator_curator-framework-2.7.1.jar,file:///opt/app-root/src/.ivy2/jars/org.apache.directory.server_apacheds-i18n-2.0.0-M15.jar,file:///opt/app-root/src/.ivy2/jars/org.apache.directory.api_api-asn1-api-1.0.0-M20.jar,file:///opt/app-root/src/.ivy2/jars/org.apache.directory.api_api-util-1.0.0-M20.jar,file:///opt/app-root/src/.ivy2/jars/org.slf4j_slf4j-log4j12-1.7.10.jar,file:///opt/app-root/src/.ivy2/jars/io.netty_netty-3.6.2.Final.jar,file:///opt/app-root/src/.ivy2/jars/javax.servlet.jsp_jsp-api-2.1.jar,file:///opt/app-root/src/.ivy2/jars/jline_jline-0.9.94.jar,file:///opt/app-root/src/.ivy2/jars/junit_junit-4.11.jar,file:///opt/app-root/src/.ivy2/jars/org.hamcrest_hamcrest-core-1.3.jar,file:///opt/app-root/src/.ivy2/jars/com.amazonaws_aws-java-sdk-1.11.596.jar,file:///opt/app-root/src/.ivy2/jars/org.javaswift_joss-0.10.3.jar,file:///opt/app-root/src/.ivy2/jars/com.google.guava_guava-27.0-jre.jar,file:///opt/app-root/src/.ivy2/jars/com.googlecode.json-simple_json-simple-1.1.1.jar,file:///opt/app-root/src/.ivy2/jars/commons-validator_commons-validator-1.6.jar,file:///opt/app-root/src/.ivy2/jars/org.apache.httpcomponents_httpclient-4.5.9.jar,file:///opt/app-root/src/.ivy2/jars/commons-io_commons-io-2.6.jar,file:///opt/app-root/src/.ivy2/jars/org.apache.httpcomponents_httpcore-4.4.11.jar,file:///opt/app-root/src/.ivy2/jars/com.amazonaws_aws-java-sdk-eventbridge-1.11.596.jar,file:///opt/app-root/src/.ivy2/jars/com.amazonaws_aws-java-sdk-ec2instanceconnect-1.11.596.jar,file:///opt/app-root/src/.ivy2/jars/com.amazonaws_aws-java-sdk-applicationinsights-1.11.596.jar,file:///opt/app-root/src/.ivy2/jars/com.amazonaws_aws-java-sdk-servicequotas-1.11.596.jar,file:///opt/app-root/src/.ivy2/jars/com.amazonaws_aws-java-sdk-personalizeevents-1.11.596.jar,file:///opt/app-root/src/.ivy2/jars/com.amazonaws_aws-java-sdk-personalize-1.11.596.jar,file:///opt/app-root/src/.ivy2/jars/com.amazonaws_aws-java-sdk-personalizeruntime-1.11.596.jar,file:///opt/app-root/src/.ivy2/jars/com.amazonaws_aws-java-sdk-ioteventsdata-1.11.596.jar,file:///opt/app-root/src/.ivy2/jars/com.amazonaws_aws-java-sdk-iotevents-1.11.596.jar,file:///opt/app-root/src/.ivy2/jars/com.amazonaws_aws-java-sdk-iotthingsgraph-1.11.596.jar,file:///opt/app-root/src/.ivy2/jars/com.amazonaws_aws-java-sdk-groundstation-1.11.596.jar,file:///opt/app-root/src/.ivy2/jars/com.amazonaws_aws-java-sdk-mediapackagevod-1.11.596.jar,file:///opt/app-root/src/.ivy2/jars/com.amazonaws_aws-java-sdk-managedblockchain-1.11.596.jar,file:///opt/app-root/src/.ivy2/jars/com.amazonaws_aws-java-sdk-textract-1.11.596.jar,file:///opt/app-root/src/.ivy2/jars/com.amazonaws_aws-java-sdk-worklink-1.11.596.jar,file:///opt/app-root/src/.ivy2/jars/com.amazonaws_aws-java-sdk-backup-1.11.596.jar,file:///opt/app-root/src/.ivy2/jars/com.amazonaws_aws-java-sdk-docdb-1.11.596.jar,file:///opt/app-root/src/.ivy2/jars/com.amazonaws_aws-java-sdk-apigatewayv2-1.11.596.jar,file:///opt/app-root/src/.ivy2/jars/com.amazonaws_aws-java-sdk-apigatewaymanagementapi-1.11.596.jar,file:///opt/app-root/src/.ivy2/jars/com.amazonaws_aws-java-sdk-kafka-1.11.596.jar,file:///opt/app-root/src/.ivy2/jars/com.amazonaws_aws-java-sdk-appmesh-1.11.596.jar,file:///opt/app-root/src/.ivy2/jars/com.amazonaws_aws-java-sdk-licensemanager-1.11.596.jar,file:///opt/app-root/src/.ivy2/jars/com.amazonaws_aws-java-sdk-securityhub-1.11.596.jar,file:///opt/app-root/src/.ivy2/jars/com.amazonaws_aws-java-sdk-fsx-1.11.596.jar,file:///opt/app-root/src/.ivy2/jars/com.amazonaws_aws-java-sdk-mediaconnect-1.11.596.jar,file:///opt/app-root/src/.ivy2/jars/com.amazonaws_aws-java-sdk-kinesisanalyticsv2-1.11.596.jar,file:///opt/app-root/src/.ivy2/jars/com.amazonaws_aws-java-sdk-comprehendmedical-1.11.596.jar,file:///opt/app-root/src/.ivy2/jars/com.amazonaws_aws-java-sdk-globalaccelerator-1.11.596.jar,file:///opt/app-root/src/.ivy2/jars/com.amazonaws_aws-java-sdk-transfer-1.11.596.jar,file:///opt/app-root/src/.ivy2/jars/com.amazonaws_aws-java-sdk-datasync-1.11.596.jar,file:///opt/app-root/src/.ivy2/jars/com.amazonaws_aws-java-sdk-robomaker-1.11.596.jar,file:///opt/app-root/src/.ivy2/jars/com.amazonaws_aws-java-sdk-amplify-1.11.596.jar,file:///opt/app-root/src/.ivy2/jars/com.amazonaws_aws-java-sdk-quicksight-1.11.596.jar,file:///opt/app-root/src/.ivy2/jars/com.amazonaws_aws-java-sdk-rdsdata-1.11.596.jar,file:///opt/app-root/src/.ivy2/jars/com.amazonaws_aws-java-sdk-route53resolver-1.11.596.jar,file:///opt/app-root/src/.ivy2/jars/com.amazonaws_aws-java-sdk-ram-1.11.596.jar,file:///opt/app-root/src/.ivy2/jars/com.amazonaws_aws-java-sdk-s3control-1.11.596.jar,file:///opt/app-root/src/.ivy2/jars/com.amazonaws_aws-java-sdk-pinpointsmsvoice-1.11.596.jar,file:///opt/app-root/src/.ivy2/jars/com.amazonaws_aws-java-sdk-pinpointemail-1.11.596.jar,file:///opt/app-root/src/.ivy2/jars/com.amazonaws_aws-java-sdk-chime-1.11.596.jar,file:///opt/app-root/src/.ivy2/jars/com.amazonaws_aws-java-sdk-signer-1.11.596.jar,file:///opt/app-root/src/.ivy2/jars/com.amazonaws_aws-java-sdk-dlm-1.11.596.jar,file:///opt/app-root/src/.ivy2/jars/com.amazonaws_aws-java-sdk-macie-1.11.596.jar,file:///opt/app-root/src/.ivy2/jars/com.amazonaws_aws-java-sdk-eks-1.11.596.jar,file:///opt/app-root/src/.ivy2/jars/com.amazonaws_aws-java-sdk-mediatailor-1.11.596.jar,file:///opt/app-root/src/.ivy2/jars/com.amazonaws_aws-java-sdk-neptune-1.11.596.jar,file:///opt/app-root/src/.ivy2/jars/com.amazonaws_aws-java-sdk-pi-1.11.596.jar,file:///opt/app-root/src/.ivy2/jars/com.amazonaws_aws-java-sdk-iot1clickprojects-1.11.596.jar,file:///opt/app-root/src/.ivy2/jars/com.amazonaws_aws-java-sdk-iot1clickdevices-1.11.596.jar,file:///opt/app-root/src/.ivy2/jars/com.amazonaws_aws-java-sdk-iotanalytics-1.11.596.jar,file:///opt/app-root/src/.ivy2/jars/com.amazonaws_aws-java-sdk-acmpca-1.11.596.jar,file:///opt/app-root/src/.ivy2/jars/com.amazonaws_aws-java-sdk-secretsmanager-1.11.596.jar,file:///opt/app-root/src/.ivy2/jars/com.amazonaws_aws-java-sdk-fms-1.11.596.jar,file:///opt/app-root/src/.ivy2/jars/com.amazonaws_aws-java-sdk-connect-1.11.596.jar,file:///opt/app-root/src/.ivy2/jars/com.amazonaws_aws-java-sdk-transcribe-1.11.596.jar,file:///opt/app-root/src/.ivy2/jars/com.amazonaws_aws-java-sdk-autoscalingplans-1.11.596.jar,file:///opt/app-root/src/.ivy2/jars/com.amazonaws_aws-java-sdk-workmail-1.11.596.jar,file:///opt/app-root/src/.ivy2/jars/com.amazonaws_aws-java-sdk-servicediscovery-1.11.596.jar,file:///opt/app-root/src/.ivy2/jars/com.amazonaws_aws-java-sdk-cloud9-1.11.596.jar,file:///opt/app-root/src/.ivy2/jars/com.amazonaws_aws-java-sdk-serverlessapplicationrepository-1.11.596.jar,file:///opt/app-root/src/.ivy2/jars/com.amazonaws_aws-java-sdk-alexaforbusiness-1.11.596.jar,file:///opt/app-root/src/.ivy2/jars/com.amazonaws_aws-java-sdk-resourcegroups-1.11.596.jar,file:///opt/app-root/src/.ivy2/jars/com.amazonaws_aws-java-sdk-comprehend-1.11.596.jar,file:///opt/app-root/src/.ivy2/jars/com.amazonaws_aws-java-sdk-translate-1.11.596.jar,file:///opt/app-root/src/.ivy2/jars/com.amazonaws_aws-java-sdk-sagemaker-1.11.596.jar,file:///opt/app-root/src/.ivy2/jars/com.amazonaws_aws-java-sdk-iotjobsdataplane-1.11.596.jar,file:///opt/app-root/src/.ivy2/jars/com.amazonaws_aws-java-sdk-sagemakerruntime-1.11.596.jar,file:///opt/app-root/src/.ivy2/jars/com.amazonaws_aws-java-sdk-kinesisvideo-1.11.596.jar,file:///opt/app-root/src/.ivy2/jars/com.amazonaws_aws-java-sdk-appsync-1.11.596.jar,file:///opt/app-root/src/.ivy2/jars/com.amazonaws_aws-java-sdk-guardduty-1.11.596.jar,file:///opt/app-root/src/.ivy2/jars/com.amazonaws_aws-java-sdk-mq-1.11.596.jar,file:///opt/app-root/src/.ivy2/jars/com.amazonaws_aws-java-sdk-mediaconvert-1.11.596.jar,file:///opt/app-root/src/.ivy2/jars/com.amazonaws_aws-java-sdk-mediastore-1.11.596.jar,file:///opt/app-root/src/.ivy2/jars/com.amazonaws_aws-java-sdk-mediastoredata-1.11.596.jar,file:///opt/app-root/src/.ivy2/jars/com.amazonaws_aws-java-sdk-medialive-1.11.596.jar,file:///opt/app-root/src/.ivy2/jars/com.amazonaws_aws-java-sdk-mediapackage-1.11.596.jar,file:///opt/app-root/src/.ivy2/jars/com.amazonaws_aws-java-sdk-costexplorer-1.11.596.jar,file:///opt/app-root/src/.ivy2/jars/com.amazonaws_aws-java-sdk-pricing-1.11.596.jar,file:///opt/app-root/src/.ivy2/jars/com.amazonaws_aws-java-sdk-mobile-1.11.596.jar,file:///opt/app-root/src/.ivy2/jars/com.amazonaws_aws-java-sdk-cloudhsmv2-1.11.596.jar,file:///opt/app-root/src/.ivy2/jars/com.amazonaws_aws-java-sdk-glue-1.11.596.jar,file:///opt/app-root/src/.ivy2/jars/com.amazonaws_aws-java-sdk-migrationhub-1.11.596.jar,file:///opt/app-root/src/.ivy2/jars/com.amazonaws_aws-java-sdk-dax-1.11.596.jar,file:///opt/app-root/src/.ivy2/jars/com.amazonaws_aws-java-sdk-greengrass-1.11.596.jar,file:///opt/app-root/src/.ivy2/jars/com.amazonaws_aws-java-sdk-athena-1.11.596.jar,file:///opt/app-root/src/.ivy2/jars/com.amazonaws_aws-java-sdk-marketplaceentitlement-1.11.596.jar,file:///opt/app-root/src/.ivy2/jars/com.amazonaws_aws-java-sdk-codestar-1.11.596.jar,file:///opt/app-root/src/.ivy2/jars/com.amazonaws_aws-java-sdk-lexmodelbuilding-1.11.596.jar,file:///opt/app-root/src/.ivy2/jars/com.amazonaws_aws-java-sdk-resourcegroupstaggingapi-1.11.596.jar,file:///opt/app-root/src/.ivy2/jars/com.amazonaws_aws-java-sdk-pinpoint-1.11.596.jar,file:///opt/app-root/src/.ivy2/jars/com.amazonaws_aws-java-sdk-xray-1.11.596.jar,file:///opt/app-root/src/.ivy2/jars/com.amazonaws_aws-java-sdk-opsworkscm-1.11.596.jar,file:///opt/app-root/src/.ivy2/jars/com.amazonaws_aws-java-sdk-support-1.11.596.jar,file:///opt/app-root/src/.ivy2/jars/com.amazonaws_aws-java-sdk-simpledb-1.11.596.jar,file:///opt/app-root/src/.ivy2/jars/com.amazonaws_aws-java-sdk-servicecatalog-1.11.596.jar,file:///opt/app-root/src/.ivy2/jars/com.amazonaws_aws-java-sdk-servermigration-1.11.596.jar,file:///opt/app-root/src/.ivy2/jars/com.amazonaws_aws-java-sdk-simpleworkflow-1.11.596.jar,file:///opt/app-root/src/.ivy2/jars/com.amazonaws_aws-java-sdk-storagegateway-1.11.596.jar,file:///opt/app-root/src/.ivy2/jars/com.amazonaws_aws-java-sdk-route53-1.11.596.jar,file:///opt/app-root/src/.ivy2/jars/com.amazonaws_aws-java-sdk-s3-1.11.596.jar,file:///opt/app-root/src/.ivy2/jars/com.amazonaws_aws-java-sdk-importexport-1.11.596.jar,file:///opt/app-root/src/.ivy2/jars/com.amazonaws_aws-java-sdk-sts-1.11.596.jar,file:///opt/app-root/src/.ivy2/jars/com.amazonaws_aws-java-sdk-sqs-1.11.596.jar,file:///opt/app-root/src/.ivy2/jars/com.amazonaws_aws-java-sdk-rds-1.11.596.jar,file:///opt/app-root/src/.ivy2/jars/com.amazonaws_aws-java-sdk-redshift-1.11.596.jar,file:///opt/app-root/src/.ivy2/jars/com.amazonaws_aws-java-sdk-elasticbeanstalk-1.11.596.jar,file:///opt/app-root/src/.ivy2/jars/com.amazonaws_aws-java-sdk-glacier-1.11.596.jar,file:///opt/app-root/src/.ivy2/jars/com.amazonaws_aws-java-sdk-iam-1.11.596.jar,file:///opt/app-root/src/.ivy2/jars/com.amazonaws_aws-java-sdk-datapipeline-1.11.596.jar,file:///opt/app-root/src/.ivy2/jars/com.amazonaws_aws-java-sdk-elasticloadbalancing-1.11.596.jar,file:///opt/app-root/src/.ivy2/jars/com.amazonaws_aws-java-sdk-elasticloadbalancingv2-1.11.596.jar,file:///opt/app-root/src/.ivy2/jars/com.amazonaws_aws-java-sdk-emr-1.11.596.jar,file:///opt/app-root/src/.ivy2/jars/com.amazonaws_aws-java-sdk-elasticache-1.11.596.jar,file:///opt/app-root/src/.ivy2/jars/com.amazonaws_aws-java-sdk-elastictranscoder-1.11.596.jar,file:///opt/app-root/src/.ivy2/jars/com.amazonaws_aws-java-sdk-ec2-1.11.596.jar,file:///opt/app-root/src/.ivy2/jars/com.amazonaws_aws-java-sdk-dynamodb-1.11.596.jar,file:///opt/app-root/src/.ivy2/jars/com.amazonaws_aws-java-sdk-sns-1.11.596.jar,file:///opt/app-root/src/.ivy2/jars/com.amazonaws_aws-java-sdk-budgets-1.11.596.jar,file:///opt/app-root/src/.ivy2/jars/com.amazonaws_aws-java-sdk-cloudtrail-1.11.596.jar,file:///opt/app-root/src/.ivy2/jars/com.amazonaws_aws-java-sdk-cloudwatch-1.11.596.jar,file:///opt/app-root/src/.ivy2/jars/com.amazonaws_aws-java-sdk-logs-1.11.596.jar,file:///opt/app-root/src/.ivy2/jars/com.amazonaws_aws-java-sdk-events-1.11.596.jar,file:///opt/app-root/src/.ivy2/jars/com.amazonaws_aws-java-sdk-cognitoidentity-1.11.596.jar,file:///opt/app-root/src/.ivy2/jars/com.amazonaws_aws-java-sdk-cognitosync-1.11.596.jar,file:///opt/app-root/src/.ivy2/jars/com.amazonaws_aws-java-sdk-directconnect-1.11.596.jar,file:///opt/app-root/src/.ivy2/jars/com.amazonaws_aws-java-sdk-cloudformation-1.11.596.jar,file:///opt/app-root/src/.ivy2/jars/com.amazonaws_aws-java-sdk-cloudfront-1.11.596.jar,file:///opt/app-root/src/.ivy2/jars/com.amazonaws_aws-java-sdk-clouddirectory-1.11.596.jar,file:///opt/app-root/src/.ivy2/jars/com.amazonaws_aws-java-sdk-kinesis-1.11.596.jar,file:///opt/app-root/src/.ivy2/jars/com.amazonaws_aws-java-sdk-opsworks-1.11.596.jar,file:///opt/app-root/src/.ivy2/jars/com.amazonaws_aws-java-sdk-ses-1.11.596.jar,file:///opt/app-root/src/.ivy2/jars/com.amazonaws_aws-java-sdk-autoscaling-1.11.596.jar,file:///opt/app-root/src/.ivy2/jars/com.amazonaws_aws-java-sdk-cloudsearch-1.11.596.jar,file:///opt/app-root/src/.ivy2/jars/com.amazonaws_aws-java-sdk-cloudwatchmetrics-1.11.596.jar,file:///opt/app-root/src/.ivy2/jars/com.amazonaws_aws-java-sdk-codedeploy-1.11.596.jar,file:///opt/app-root/src/.ivy2/jars/com.amazonaws_aws-java-sdk-codepipeline-1.11.596.jar,file:///opt/app-root/src/.ivy2/jars/com.amazonaws_aws-java-sdk-kms-1.11.596.jar,file:///opt/app-root/src/.ivy2/jars/com.amazonaws_aws-java-sdk-config-1.11.596.jar,file:///opt/app-root/src/.ivy2/jars/com.amazonaws_aws-java-sdk-lambda-1.11.596.jar,file:///opt/app-root/src/.ivy2/jars/com.amazonaws_aws-java-sdk-ecs-1.11.596.jar,file:///opt/app-root/src/.ivy2/jars/com.amazonaws_aws-java-sdk-ecr-1.11.596.jar,file:///opt/app-root/src/.ivy2/jars/com.amazonaws_aws-java-sdk-cloudhsm-1.11.596.jar,file:///opt/app-root/src/.ivy2/jars/com.amazonaws_aws-java-sdk-ssm-1.11.596.jar,file:///opt/app-root/src/.ivy2/jars/com.amazonaws_aws-java-sdk-workspaces-1.11.596.jar,file:///opt/app-root/src/.ivy2/jars/com.amazonaws_aws-java-sdk-machinelearning-1.11.596.jar,file:///opt/app-root/src/.ivy2/jars/com.amazonaws_aws-java-sdk-directory-1.11.596.jar,file:///opt/app-root/src/.ivy2/jars/com.amazonaws_aws-java-sdk-efs-1.11.596.jar,file:///opt/app-root/src/.ivy2/jars/com.amazonaws_aws-java-sdk-codecommit-1.11.596.jar,file:///opt/app-root/src/.ivy2/jars/com.amazonaws_aws-java-sdk-devicefarm-1.11.596.jar,file:///opt/app-root/src/.ivy2/jars/com.amazonaws_aws-java-sdk-elasticsearch-1.11.596.jar,file:///opt/app-root/src/.ivy2/jars/com.amazonaws_aws-java-sdk-waf-1.11.596.jar,file:///opt/app-root/src/.ivy2/jars/com.amazonaws_aws-java-sdk-marketplacecommerceanalytics-1.11.596.jar,file:///opt/app-root/src/.ivy2/jars/com.amazonaws_aws-java-sdk-inspector-1.11.596.jar,file:///opt/app-root/src/.ivy2/jars/com.amazonaws_aws-java-sdk-iot-1.11.596.jar,file:///opt/app-root/src/.ivy2/jars/com.amazonaws_aws-java-sdk-api-gateway-1.11.596.jar,file:///opt/app-root/src/.ivy2/jars/com.amazonaws_aws-java-sdk-acm-1.11.596.jar,file:///opt/app-root/src/.ivy2/jars/com.amazonaws_aws-java-sdk-gamelift-1.11.596.jar,file:///opt/app-root/src/.ivy2/jars/com.amazonaws_aws-java-sdk-dms-1.11.596.jar,file:///opt/app-root/src/.ivy2/jars/com.amazonaws_aws-java-sdk-marketplacemeteringservice-1.11.596.jar,file:///opt/app-root/src/.ivy2/jars/com.amazonaws_aws-java-sdk-cognitoidp-1.11.596.jar,file:///opt/app-root/src/.ivy2/jars/com.amazonaws_aws-java-sdk-discovery-1.11.596.jar,file:///opt/app-root/src/.ivy2/jars/com.amazonaws_aws-java-sdk-applicationautoscaling-1.11.596.jar,file:///opt/app-root/src/.ivy2/jars/com.amazonaws_aws-java-sdk-snowball-1.11.596.jar,file:///opt/app-root/src/.ivy2/jars/com.amazonaws_aws-java-sdk-rekognition-1.11.596.jar,file:///opt/app-root/src/.ivy2/jars/com.amazonaws_aws-java-sdk-polly-1.11.596.jar,file:///opt/app-root/src/.ivy2/jars/com.amazonaws_aws-java-sdk-lightsail-1.11.596.jar,file:///opt/app-root/src/.ivy2/jars/com.amazonaws_aws-java-sdk-stepfunctions-1.11.596.jar,file:///opt/app-root/src/.ivy2/jars/com.amazonaws_aws-java-sdk-health-1.11.596.jar,file:///opt/app-root/src/.ivy2/jars/com.amazonaws_aws-java-sdk-costandusagereport-1.11.596.jar,file:///opt/app-root/src/.ivy2/jars/com.amazonaws_aws-java-sdk-codebuild-1.11.596.jar,file:///opt/app-root/src/.ivy2/jars/com.amazonaws_aws-java-sdk-appstream-1.11.596.jar,file:///opt/app-root/src/.ivy2/jars/com.amazonaws_aws-java-sdk-shield-1.11.596.jar,file:///opt/app-root/src/.ivy2/jars/com.amazonaws_aws-java-sdk-batch-1.11.596.jar,file:///opt/app-root/src/.ivy2/jars/com.amazonaws_aws-java-sdk-lex-1.11.596.jar,file:///opt/app-root/src/.ivy2/jars/com.amazonaws_aws-java-sdk-mechanicalturkrequester-1.11.596.jar,file:///opt/app-root/src/.ivy2/jars/com.amazonaws_aws-java-sdk-organizations-1.11.596.jar,file:///opt/app-root/src/.ivy2/jars/com.amazonaws_aws-java-sdk-workdocs-1.11.596.jar,file:///opt/app-root/src/.ivy2/jars/com.amazonaws_aws-java-sdk-core-1.11.596.jar,file:///opt/app-root/src/.ivy2/jars/com.amazonaws_aws-java-sdk-models-1.11.596.jar,file:///opt/app-root/src/.ivy2/jars/com.amazonaws_aws-java-sdk-swf-libraries-1.11.22.jar,file:///opt/app-root/src/.ivy2/jars/com.amazonaws_jmespath-java-1.11.596.jar,file:///opt/app-root/src/.ivy2/jars/software.amazon.ion_ion-java-1.0.2.jar,file:///opt/app-root/src/.ivy2/jars/com.fasterxml.jackson.core_jackson-databind-2.6.7.2.jar,file:///opt/app-root/src/.ivy2/jars/com.fasterxml.jackson.dataformat_jackson-dataformat-cbor-2.6.7.jar,file:///opt/app-root/src/.ivy2/jars/commons-codec_commons-codec-1.11.jar,file:///opt/app-root/src/.ivy2/jars/com.fasterxml.jackson.core_jackson-annotations-2.6.0.jar,file:///opt/app-root/src/.ivy2/jars/com.fasterxml.jackson.core_jackson-core-2.6.7.jar,file:///opt/app-root/src/.ivy2/jars/io.netty_netty-codec-http-4.1.17.Final.jar,file:///opt/app-root/src/.ivy2/jars/io.netty_netty-handler-4.1.17.Final.jar,file:///opt/app-root/src/.ivy2/jars/io.netty_netty-codec-4.1.17.Final.jar,file:///opt/app-root/src/.ivy2/jars/io.netty_netty-transport-4.1.17.Final.jar,file:///opt/app-root/src/.ivy2/jars/io.netty_netty-buffer-4.1.17.Final.jar,file:///opt/app-root/src/.ivy2/jars/io.netty_netty-resolver-4.1.17.Final.jar,file:///opt/app-root/src/.ivy2/jars/io.netty_netty-common-4.1.17.Final.jar,file:///opt/app-root/src/.ivy2/jars/org.slf4j_jcl-over-slf4j-1.7.2.jar,file:///opt/app-root/src/.ivy2/jars/com.google.guava_failureaccess-1.0.jar,file:///opt/app-root/src/.ivy2/jars/com.google.guava_listenablefuture-9999.0-empty-to-avoid-conflict-with-guava.jar,file:///opt/app-root/src/.ivy2/jars/com.google.code.findbugs_jsr305-3.0.2.jar,file:///opt/app-root/src/.ivy2/jars/org.checkerframework_checker-qual-2.5.2.jar,file:///opt/app-root/src/.ivy2/jars/com.google.errorprone_error_prone_annotations-2.2.0.jar,file:///opt/app-root/src/.ivy2/jars/com.google.j2objc_j2objc-annotations-1.1.jar,file:///opt/app-root/src/.ivy2/jars/org.codehaus.mojo_animal-sniffer-annotations-1.17.jar,file:///opt/app-root/src/.ivy2/jars/commons-beanutils_commons-beanutils-1.9.2.jar,file:///opt/app-root/src/.ivy2/jars/commons-digester_commons-digester-1.8.1.jar\n"
     ]
    }
   ],
   "source": [
    "'xskipper-core' in spark.sparkContext.getConf().get('spark.jars')"
   ]
  },
  {
   "cell_type": "code",
   "execution_count": 7,
   "metadata": {},
   "outputs": [],
   "source": [
    "credentials ={\n",
    "    'ACCESS_KEY': 'change_me', \n",
    "    'SECRET_KEY': 'change_me', \n",
    "    'ENDPOINT': 'https://s3.eu.cloud-object-storage.appdomain.cloud', \n",
    "    'IBM_AUTH_ENDPOINT': 'https://iam.cloud.ibm.com/oidc/token',\n",
    "    'BUCKET': 'operatefirst',\n",
    "    'REGION': 'eu-de',\n",
    "    'IBM_API_KEY_ID': 'change_me',\n",
    "    'COS_INSTANCE_CRN': 'change_me'\n",
    " }\n",
    "\n",
    "hconf = spark.sparkContext._jsc.hadoopConfiguration()\n",
    "# configure Stocator\n",
    "hconf.set(\"fs.stocator.scheme.list\", \"cos\")\n",
    "hconf.set(\"fs.cos.impl\", \"com.ibm.stocator.fs.ObjectStoreFileSystem\")\n",
    "hconf.set(\"fs.stocator.cos.impl\", \"com.ibm.stocator.fs.cos.COSAPIClient\")\n",
    "hconf.set(\"fs.stocator.cos.scheme\", \"cos\")\n",
    "hconf.set(\"fs.cos.flat.list\", \"false\")\n",
    "\n",
    "# hmac\n",
    "hconf.set(\"fs.cos.service.access.key\", credentials['ACCESS_KEY'])\n",
    "hconf.set(\"fs.cos.service.secret.key\", credentials['SECRET_KEY'])\n",
    "\n",
    "hconf.set(\"fs.cos.service.endpoint\", credentials['ENDPOINT'])\n",
    "hconf.set(\"fs.cos.service.iam.api.key\", credentials['IBM_API_KEY_ID'])\n",
    "hconf.set(\"fs.cos.service.iam.service.id\", credentials['COS_INSTANCE_CRN'])"
   ]
  },
  {
   "cell_type": "code",
   "execution_count": 8,
   "metadata": {},
   "outputs": [
    {
     "name": "stdout",
     "output_type": "stream",
     "text": [
      "cos://operatefirst.service/metadata\n"
     ]
    }
   ],
   "source": [
    "from xskipper import Xskipper\n",
    "\n",
    "# The base location to store all metadata\n",
    "# TODO: change to your metadata location\n",
    "md_base_location = \"cos://{0}.service/{1}\".format(credentials['BUCKET'], \"metadata\")\n",
    "print(md_base_location)\n",
    "\n",
    "# Configuring the JVM wide parameters \n",
    "# in addition configure the identifier class for IBM Cloud Object Storage\n",
    "conf = dict([\n",
    "            (\"io.xskipper.parquet.mdlocation\", md_base_location),\n",
    "            (\"io.xskipper.parquet.mdlocation.type\", \"EXPLICIT_BASE_PATH_LOCATION\"),\n",
    "            (\"io.xskipper.identifierclass\", \"io.xskipper.utils.identifier.IBMCOSIdentifier\")])\n",
    "Xskipper.setConf(spark, conf)"
   ]
  },
  {
   "cell_type": "markdown",
   "metadata": {},
   "source": [
    "## Indexing a dataset <a id='indexing_dataset'></a>"
   ]
  },
  {
   "cell_type": "markdown",
   "metadata": {},
   "source": [
    "###  Creating a sample Dataset <a id='sample_dataset'></a>\n",
    "\n",
    "First, let's create a sample dataset that will be used throught this sample."
   ]
  },
  {
   "cell_type": "code",
   "execution_count": 9,
   "metadata": {},
   "outputs": [
    {
     "name": "stdout",
     "output_type": "stream",
     "text": [
      "cos://operatefirst.service/data\n",
      "+----+---------+---+----------+\n",
      "|temp|city     |vid|dt        |\n",
      "+----+---------+---+----------+\n",
      "|30.0|Jerusalem|b  |2017-07-08|\n",
      "|20.0|Tel-Aviv |a  |2017-07-07|\n",
      "+----+---------+---+----------+\n",
      "\n"
     ]
    }
   ],
   "source": [
    "from pyspark.sql.types import *\n",
    "\n",
    "# TODO: change to your data location\n",
    "dataset_location = \"cos://{0}.service/{1}\".format(credentials['BUCKET'], \"data\")\n",
    "print(dataset_location)\n",
    "\n",
    "df_schema = StructType([StructField(\"dt\", StringType(), True), StructField(\"temp\", DoubleType(), True),\\\n",
    "                      StructField(\"city\", StringType(), True), StructField(\"vid\", StringType(), True)]) \n",
    "\n",
    "data = [(\"2017-07-07\", 20.0, \"Tel-Aviv\", \"a\"), (\"2017-07-08\", 30.0, \"Jerusalem\", \"b\")]\n",
    "\n",
    "df = spark.createDataFrame(data, schema=df_schema) \n",
    "\n",
    "# use partitionBy to make sure we have two objects\n",
    "df.write.partitionBy(\"dt\").mode(\"overwrite\").parquet(dataset_location)\n",
    "\n",
    "# read the dataset back from storage\n",
    "reader = spark.read.format(\"parquet\")\n",
    "df = reader.load(dataset_location)\n",
    "df.show(10, False)"
   ]
  },
  {
   "cell_type": "markdown",
   "metadata": {},
   "source": [
    "### Indexing <a id='indexing'></a>"
   ]
  },
  {
   "cell_type": "markdown",
   "metadata": {},
   "source": [
    "To create data skipping indexes on a data set, decide which columns to index, then choose an index type for each column. These choices are workload and data dependent. We recommend to select columns which frequently appear in your workload's queries predicates.\n",
    "\n",
    "The following index types are supported out of the box:\n",
    "\n",
    "1. Min/max – stores the minimum and maximum values for a column. Applies to all types except complex types.\n",
    "2. Value list – stores the list of values appearing in a column. Applies to all types except complex types.\n",
    "3. Bloom Filter – stores bloom filter. Applies to ByteType, StringType, LongType, IntegerType, and ShortType.\n",
    "\n",
    " Rule of thumb\n",
    "- Choose value list if the number of distinct values in an object is typically much smaller than the total number of values in that object\n",
    "- Bloom filters are recommended for columns with high cardinality. (otherwise the index can get as big as that column in the data set).\n",
    "\n",
    "Xskipper also enables defining custom (create your own) data skipping indexes and to specify how to apply them during query time. For more details see [here](https://xskipper-io.github.io/xskipper/api/creating-new-plugin/)"
   ]
  },
  {
   "cell_type": "code",
   "execution_count": null,
   "metadata": {},
   "outputs": [],
   "source": [
    "# create Xskipper instance for the sample dataset\n",
    "xskipper = Xskipper(spark, dataset_location)\n",
    "\n",
    "# remove index if exists\n",
    "if xskipper.isIndexed():\n",
    "    xskipper.dropIndex()\n",
    "\n",
    "xskipper.indexBuilder() \\\n",
    "        .addMinMaxIndex(\"temp\") \\\n",
    "        .addValueListIndex(\"city\") \\\n",
    "        .addBloomFilterIndex(\"vid\") \\\n",
    "        .build(reader) \\\n",
    "        .show(10, False)"
   ]
  },
  {
   "cell_type": "markdown",
   "metadata": {},
   "source": [
    "### View the created index status\n",
    "\n",
    "To view existing dataset's data skipping indexes information and their status"
   ]
  },
  {
   "cell_type": "code",
   "execution_count": 6,
   "metadata": {},
   "outputs": [
    {
     "name": "stdout",
     "output_type": "stream",
     "text": [
      "+-------------------------+---------------------------------------------------------+--------------------+\n",
      "|Data Skipping Index Stats|cos://guyx27snotebooks-donotdelete-pr-kczcce0t0nsznp/data|             Comment|\n",
      "+-------------------------+---------------------------------------------------------+--------------------+\n",
      "|                   Status|                                               Up to date|                    |\n",
      "|     Total objects ind...|                                                        2|                    |\n",
      "|     # Metadata proper...|                                                         |                    |\n",
      "|        Metadata location|                                     cos://guyx27snote...|                    |\n",
      "|      # Index information|                                                         |                    |\n",
      "|             # Index type|                                                  Columns|              Params|\n",
      "|                   minmax|                                                     temp|                    |\n",
      "|                valuelist|                                                     city|                    |\n",
      "|              bloomfilter|                                                      vid|io.xskipper.index...|\n",
      "+-------------------------+---------------------------------------------------------+--------------------+\n",
      "\n"
     ]
    }
   ],
   "source": [
    "xskipper.describeIndex(reader).show()"
   ]
  },
  {
   "cell_type": "markdown",
   "metadata": {},
   "source": [
    "### List Indexed datasets\n",
    "\n",
    "To view all indexed dataset under the current base location"
   ]
  },
  {
   "cell_type": "code",
   "execution_count": 7,
   "metadata": {},
   "outputs": [
    {
     "name": "stdout",
     "output_type": "stream",
     "text": [
      "+---------------------------------------------------------+---------------------------------------------------------------------+-------------+\n",
      "|Dataset                                                  |Index type                                                           |Index columns|\n",
      "+---------------------------------------------------------+---------------------------------------------------------------------+-------------+\n",
      "|# Metadatastore Manager parameters                       |                                                                     |             |\n",
      "|Metadata base path                                       |cos://guyx27snotebooks-donotdelete-pr-kczcce0t0nsznp.service/metadata|             |\n",
      "|cos://guyx27snotebooks-donotdelete-pr-kczcce0t0nsznp/data|minmax                                                               |temp         |\n",
      "|                                                         |valuelist                                                            |city         |\n",
      "|                                                         |bloomfilter                                                          |vid          |\n",
      "+---------------------------------------------------------+---------------------------------------------------------------------+-------------+\n",
      "\n"
     ]
    }
   ],
   "source": [
    "Xskipper.listIndexes(spark).show(10, False)"
   ]
  },
  {
   "cell_type": "markdown",
   "metadata": {},
   "source": [
    "## Using the Data Skipping Indexes<a id='using'></a>"
   ]
  },
  {
   "cell_type": "markdown",
   "metadata": {},
   "source": [
    "### Enable/Disable Xskipper<a id='enable_disable'></a>\n",
    "\n",
    "Xskipper provides APIs to enable or disable index usage with Spark.\n",
    "\n",
    "When \"enable\", Xskipper optimization rules become visible to the Apache Spark optimizer and will be used in query optimization and execution.\\\n",
    "When \"disable', Xskipper optimization rules no longer apply during query optimization. Note that disabling Xskipper has no impact on created indexes as they remain intact."
   ]
  },
  {
   "cell_type": "code",
   "execution_count": 8,
   "metadata": {},
   "outputs": [],
   "source": [
    "# Enable Xskipper\n",
    "Xskipper.enable(spark)\n",
    "\n",
    "# Disable Xskipper\n",
    "Xskipper.disable(spark)\n",
    "\n",
    "# You can use the following to check whether the Xskipper is enabled\n",
    "if not Xskipper.isEnabled(spark):\n",
    "    Xskipper.enable(spark)"
   ]
  },
  {
   "cell_type": "markdown",
   "metadata": {},
   "source": [
    "## Running Queries<a id='run_queries_dataset'></a>\n",
    "\n",
    "Once Xskipper has been enabled you can continue running queries (using either SQL or DataFrame API) regularly and enjoy data skipping."
   ]
  },
  {
   "cell_type": "markdown",
   "metadata": {},
   "source": [
    "Reading the Dataset and creating a temporary view"
   ]
  },
  {
   "cell_type": "code",
   "execution_count": 9,
   "metadata": {},
   "outputs": [],
   "source": [
    "df = reader.load(dataset_location)\n",
    "df.createOrReplaceTempView(\"sample\")"
   ]
  },
  {
   "cell_type": "markdown",
   "metadata": {},
   "source": [
    "### Example query using Min/max index\n",
    "Min/max index filters out 1 dataset object in which it's temp column value is >= 30"
   ]
  },
  {
   "cell_type": "code",
   "execution_count": 10,
   "metadata": {},
   "outputs": [
    {
     "name": "stdout",
     "output_type": "stream",
     "text": [
      "+----+--------+---+----------+\n",
      "|temp|    city|vid|        dt|\n",
      "+----+--------+---+----------+\n",
      "|20.0|Tel-Aviv|  a|2017-07-07|\n",
      "+----+--------+---+----------+\n",
      "\n"
     ]
    }
   ],
   "source": [
    "spark.sql(\"select * from sample where temp < 30\").show()"
   ]
  },
  {
   "cell_type": "markdown",
   "metadata": {},
   "source": [
    "##### Inspecting query skipping stats\n",
    "You can inspect the data skipping statistics for the latest query using the following API:"
   ]
  },
  {
   "cell_type": "code",
   "execution_count": 11,
   "metadata": {},
   "outputs": [
    {
     "name": "stdout",
     "output_type": "stream",
     "text": [
      "+-------+-----------+-------------+------------+-----------+----------+\n",
      "|status |isSkippable|skipped_Bytes|skipped_Objs|total_Bytes|total_Objs|\n",
      "+-------+-----------+-------------+------------+-----------+----------+\n",
      "|SUCCESS|true       |903          |1           |1797       |2         |\n",
      "+-------+-----------+-------------+------------+-----------+----------+\n",
      "\n"
     ]
    }
   ],
   "source": [
    "Xskipper.getLatestQueryAggregatedStats(spark).show(10, False)"
   ]
  },
  {
   "cell_type": "markdown",
   "metadata": {},
   "source": [
    "Note: The above returns the accumulated data skipping statistics for all of the datasets which were involved in the query\n",
    "\n",
    "If you want to inspect the stats for a specific dataset use the following api call on the dataset's Xskipper instance:"
   ]
  },
  {
   "cell_type": "code",
   "execution_count": 12,
   "metadata": {},
   "outputs": [
    {
     "name": "stdout",
     "output_type": "stream",
     "text": [
      "+-------+-----------+-------------+------------+-----------+----------+\n",
      "|status |isSkippable|skipped_Bytes|skipped_Objs|total_Bytes|total_Objs|\n",
      "+-------+-----------+-------------+------------+-----------+----------+\n",
      "|SUCCESS|true       |903          |1           |1797       |2         |\n",
      "+-------+-----------+-------------+------------+-----------+----------+\n",
      "\n"
     ]
    }
   ],
   "source": [
    "xskipper.getLatestQueryStats().show(10, False)"
   ]
  },
  {
   "cell_type": "markdown",
   "metadata": {},
   "source": [
    "##### Clearing the stats before running the next query\n",
    "\n",
    "The data skipping stats are accumulated stats of all dataset readings since the last time `clearStats` or `reset` was called.\\\n",
    "Here we clear the stats after each query to get the data skipping stats for each query separately. "
   ]
  },
  {
   "cell_type": "code",
   "execution_count": 13,
   "metadata": {},
   "outputs": [],
   "source": [
    "Xskipper.clearStats(spark)"
   ]
  },
  {
   "cell_type": "markdown",
   "metadata": {},
   "source": [
    "### Example query using Value list index"
   ]
  },
  {
   "cell_type": "code",
   "execution_count": 14,
   "metadata": {},
   "outputs": [
    {
     "name": "stdout",
     "output_type": "stream",
     "text": [
      "+----+---------+---+----------+\n",
      "|temp|     city|vid|        dt|\n",
      "+----+---------+---+----------+\n",
      "|30.0|Jerusalem|  b|2017-07-08|\n",
      "+----+---------+---+----------+\n",
      "\n"
     ]
    }
   ],
   "source": [
    "spark.sql(\"select * from sample where city IN ('Jerusalem', 'Ramat-Gan')\").show()"
   ]
  },
  {
   "cell_type": "markdown",
   "metadata": {},
   "source": [
    "#### Inspecting query stats"
   ]
  },
  {
   "cell_type": "code",
   "execution_count": 15,
   "metadata": {},
   "outputs": [
    {
     "name": "stdout",
     "output_type": "stream",
     "text": [
      "+-------+-----------+-------------+------------+-----------+----------+\n",
      "|status |isSkippable|skipped_Bytes|skipped_Objs|total_Bytes|total_Objs|\n",
      "+-------+-----------+-------------+------------+-----------+----------+\n",
      "|SUCCESS|true       |894          |1           |1797       |2         |\n",
      "+-------+-----------+-------------+------------+-----------+----------+\n",
      "\n"
     ]
    }
   ],
   "source": [
    "Xskipper.getLatestQueryAggregatedStats(spark).show(10, False)"
   ]
  },
  {
   "cell_type": "markdown",
   "metadata": {},
   "source": [
    "##### Clearing the stats before running the next query"
   ]
  },
  {
   "cell_type": "code",
   "execution_count": 16,
   "metadata": {},
   "outputs": [],
   "source": [
    "Xskipper.clearStats(spark)"
   ]
  },
  {
   "cell_type": "markdown",
   "metadata": {},
   "source": [
    "### Example Query using Bloom filter index"
   ]
  },
  {
   "cell_type": "code",
   "execution_count": 17,
   "metadata": {},
   "outputs": [
    {
     "name": "stdout",
     "output_type": "stream",
     "text": [
      "+----+--------+---+----------+\n",
      "|temp|    city|vid|        dt|\n",
      "+----+--------+---+----------+\n",
      "|20.0|Tel-Aviv|  a|2017-07-07|\n",
      "+----+--------+---+----------+\n",
      "\n"
     ]
    }
   ],
   "source": [
    "spark.sql(\"select * from sample where vid = 'a'\").show()"
   ]
  },
  {
   "cell_type": "markdown",
   "metadata": {},
   "source": [
    "#### Inspecting query stats"
   ]
  },
  {
   "cell_type": "code",
   "execution_count": 18,
   "metadata": {},
   "outputs": [
    {
     "name": "stdout",
     "output_type": "stream",
     "text": [
      "+-------+-----------+-------------+------------+-----------+----------+\n",
      "|status |isSkippable|skipped_Bytes|skipped_Objs|total_Bytes|total_Objs|\n",
      "+-------+-----------+-------------+------------+-----------+----------+\n",
      "|SUCCESS|true       |903          |1           |1797       |2         |\n",
      "+-------+-----------+-------------+------------+-----------+----------+\n",
      "\n"
     ]
    }
   ],
   "source": [
    "Xskipper.getLatestQueryAggregatedStats(spark).show(10, False)"
   ]
  },
  {
   "cell_type": "markdown",
   "metadata": {},
   "source": [
    "##### Clearing the stats before running the next query"
   ]
  },
  {
   "cell_type": "code",
   "execution_count": 19,
   "metadata": {},
   "outputs": [],
   "source": [
    "Xskipper.clearStats(spark)"
   ]
  },
  {
   "cell_type": "markdown",
   "metadata": {},
   "source": [
    "## Index Life Cycle<a id='index_life_cycle'></a>\n",
    "\n",
    "The following operations can be used in order to maintain the index"
   ]
  },
  {
   "cell_type": "markdown",
   "metadata": {},
   "source": [
    "### Refresh Index\n",
    "\n",
    "Overtime the index might get stale in case new files were added/removed/modified in the dataset.\\\n",
    "In order to bring the index up-to-date you can call the refresh operation which will index the new/modified files and remove obsolete metadata.\n",
    "\n",
    "Note: The index will still be useful for files which didn't change since the last indexing time even without refreshing."
   ]
  },
  {
   "cell_type": "code",
   "execution_count": 20,
   "metadata": {},
   "outputs": [],
   "source": [
    "# adding new file to the dataset to simulate changes in the dataset\n",
    "update_data = [(\"2017-07-09\", 25.0, \"Beer-Sheva\", \"c\")]\n",
    "\n",
    "update_df = spark.createDataFrame(update_data, schema=df_schema) \n",
    "\n",
    "# append to the existing dataset\n",
    "update_df.write.partitionBy(\"dt\").mode(\"append\").parquet(dataset_location)"
   ]
  },
  {
   "cell_type": "markdown",
   "metadata": {},
   "source": [
    "Inspecting index status:"
   ]
  },
  {
   "cell_type": "code",
   "execution_count": 21,
   "metadata": {},
   "outputs": [
    {
     "name": "stdout",
     "output_type": "stream",
     "text": [
      "+--------------------------+--------------------------------------------------------------------------------------------------------------------------------------+---------------------------------------------------------------------------+\n",
      "|Data Skipping Index Stats |cos://guyx27snotebooks-donotdelete-pr-kczcce0t0nsznp/data                                                                             |Comment                                                                    |\n",
      "+--------------------------+--------------------------------------------------------------------------------------------------------------------------------------+---------------------------------------------------------------------------+\n",
      "|Status                    |Out of date - please use REFRESH operation to update the index                                                                        |                                                                           |\n",
      "|Total new/modified objects|33% of the objects\n",
      "         (1 of 3)                                                                                                  |                                                                           |\n",
      "|Total objects indexed     |2                                                                                                                                     |                                                                           |\n",
      "|# Metadata properties     |                                                                                                                                      |                                                                           |\n",
      "|Metadata location         |cos://guyx27snotebooks-donotdelete-pr-kczcce0t0nsznp.service/metadata/dddbdf9e4f6cbf274232fa18b35e5d4dab7f4b33830a4158a314c6203a2463f6|                                                                           |\n",
      "|# Index information       |                                                                                                                                      |                                                                           |\n",
      "|# Index type              |Columns                                                                                                                               |Params                                                                     |\n",
      "|minmax                    |temp                                                                                                                                  |                                                                           |\n",
      "|valuelist                 |city                                                                                                                                  |                                                                           |\n",
      "|bloomfilter               |vid                                                                                                                                   |io.xskipper.index.bloom.fpp -> 0.01 ; io.xskipper.index.bloom.ndv -> 100000|\n",
      "+--------------------------+--------------------------------------------------------------------------------------------------------------------------------------+---------------------------------------------------------------------------+\n",
      "\n"
     ]
    }
   ],
   "source": [
    "xskipper.describeIndex(reader).show(10, False)"
   ]
  },
  {
   "cell_type": "markdown",
   "metadata": {},
   "source": [
    "The status is out of data as there is one new object which is not yet indexed. Let's call the refresh operation:"
   ]
  },
  {
   "cell_type": "code",
   "execution_count": 22,
   "metadata": {},
   "outputs": [
    {
     "name": "stdout",
     "output_type": "stream",
     "text": [
      "+-------+-----------------+-------------------+\n",
      "|status |new_entries_added|old_entries_removed|\n",
      "+-------+-----------------+-------------------+\n",
      "|SUCCESS|1                |0                  |\n",
      "+-------+-----------------+-------------------+\n",
      "\n"
     ]
    }
   ],
   "source": [
    "xskipper.refreshIndex(reader).show(10, False)"
   ]
  },
  {
   "cell_type": "markdown",
   "metadata": {},
   "source": [
    "Inspecting index status following the refresh:"
   ]
  },
  {
   "cell_type": "code",
   "execution_count": 23,
   "metadata": {},
   "outputs": [
    {
     "name": "stdout",
     "output_type": "stream",
     "text": [
      "+-------------------------+--------------------------------------------------------------------------------------------------------------------------------------+---------------------------------------------------------------------------+\n",
      "|Data Skipping Index Stats|cos://guyx27snotebooks-donotdelete-pr-kczcce0t0nsznp/data                                                                             |Comment                                                                    |\n",
      "+-------------------------+--------------------------------------------------------------------------------------------------------------------------------------+---------------------------------------------------------------------------+\n",
      "|Status                   |Up to date                                                                                                                            |                                                                           |\n",
      "|Total objects indexed    |3                                                                                                                                     |                                                                           |\n",
      "|# Metadata properties    |                                                                                                                                      |                                                                           |\n",
      "|Metadata location        |cos://guyx27snotebooks-donotdelete-pr-kczcce0t0nsznp.service/metadata/dddbdf9e4f6cbf274232fa18b35e5d4dab7f4b33830a4158a314c6203a2463f6|                                                                           |\n",
      "|# Index information      |                                                                                                                                      |                                                                           |\n",
      "|# Index type             |Columns                                                                                                                               |Params                                                                     |\n",
      "|minmax                   |temp                                                                                                                                  |                                                                           |\n",
      "|valuelist                |city                                                                                                                                  |                                                                           |\n",
      "|bloomfilter              |vid                                                                                                                                   |io.xskipper.index.bloom.fpp -> 0.01 ; io.xskipper.index.bloom.ndv -> 100000|\n",
      "+-------------------------+--------------------------------------------------------------------------------------------------------------------------------------+---------------------------------------------------------------------------+\n",
      "\n"
     ]
    }
   ],
   "source": [
    "xskipper.describeIndex(reader).show(10, False)"
   ]
  },
  {
   "cell_type": "markdown",
   "metadata": {},
   "source": [
    "### Drop Index\n",
    "\n",
    "In order to drop the index use the following API call:"
   ]
  },
  {
   "cell_type": "code",
   "execution_count": 24,
   "metadata": {},
   "outputs": [],
   "source": [
    "xskipper.dropIndex()"
   ]
  },
  {
   "cell_type": "markdown",
   "metadata": {},
   "source": [
    "## Working with Hive table<a id='hive_tables'></a>\n",
    "\n",
    "Xskipper also supports skipping over hive tables.\n",
    "\n",
    "The API for working with hive tables is similar to the API presented above with 2 major differences:\n",
    "1. The `uri` used in the Xskipper constructor is the table identifier in the form: `<db>.<table>`.\n",
    "2. The API calls do not require a `DataFrameReader`.\n",
    "\n",
    "For more info regarding the API see [here]()\n",
    "\n",
    "The metadata location for a hive table is resolved according to the following:\n",
    "1. If the table contains the parameter `io.xskipper.parquet.mdlocation` the value will be used as the metadata location\n",
    "2. Else, xskipper will look up the parameter `io.xskipper.parquet.mdlocation` in the table's database and will used it as the base metadata location for all tables.\n",
    "\n",
    "Note: During indexing the index location parameter can be automatically added to the table properties if the xskipper instance is configured accordingly.  \n",
    "For more info regarding the metadata location configuration see [here]().\n",
    "\n",
    "In this example we will set the base location in the database."
   ]
  },
  {
   "cell_type": "markdown",
   "metadata": {},
   "source": [
    "### Setting the base metadata location in the database"
   ]
  },
  {
   "cell_type": "code",
   "execution_count": 25,
   "metadata": {},
   "outputs": [
    {
     "data": {
      "text/plain": [
       "DataFrame[]"
      ]
     },
     "execution_count": 25,
     "metadata": {},
     "output_type": "execute_result"
    }
   ],
   "source": [
    "alter_db_ddl = (\"ALTER DATABASE default SET DBPROPERTIES ('io.xskipper.parquet.mdlocation'='{0}')\").format(md_base_location)\n",
    "spark.sql(alter_db_ddl)"
   ]
  },
  {
   "cell_type": "markdown",
   "metadata": {},
   "source": [
    "### Creating a sample Hive Table"
   ]
  },
  {
   "cell_type": "markdown",
   "metadata": {},
   "source": [
    "Create the table"
   ]
  },
  {
   "cell_type": "code",
   "execution_count": 26,
   "metadata": {},
   "outputs": [
    {
     "data": {
      "text/plain": [
       "DataFrame[]"
      ]
     },
     "execution_count": 26,
     "metadata": {},
     "output_type": "execute_result"
    }
   ],
   "source": [
    "create_table_ddl = \"\"\"CREATE TABLE IF NOT EXISTS tbl ( \\\n",
    "temp Double,\n",
    "city String,\n",
    "vid String,\n",
    "dt String\n",
    ")\n",
    "USING PARQUET\n",
    "PARTITIONED BY (dt)\n",
    "LOCATION '{0}'\"\"\".format(dataset_location)\n",
    "spark.sql(create_table_ddl)"
   ]
  },
  {
   "cell_type": "markdown",
   "metadata": {},
   "source": [
    "Recover the table partitions"
   ]
  },
  {
   "cell_type": "code",
   "execution_count": 27,
   "metadata": {},
   "outputs": [
    {
     "data": {
      "text/plain": [
       "DataFrame[]"
      ]
     },
     "execution_count": 27,
     "metadata": {},
     "output_type": "execute_result"
    }
   ],
   "source": [
    "spark.sql(\"ALTER TABLE tbl RECOVER PARTITIONS\")"
   ]
  },
  {
   "cell_type": "markdown",
   "metadata": {},
   "source": [
    "verify the table was created"
   ]
  },
  {
   "cell_type": "code",
   "execution_count": 28,
   "metadata": {},
   "outputs": [
    {
     "name": "stdout",
     "output_type": "stream",
     "text": [
      "+--------+---------+-----------+\n",
      "|database|tableName|isTemporary|\n",
      "+--------+---------+-----------+\n",
      "|default |tbl      |false      |\n",
      "|        |sample   |true       |\n",
      "+--------+---------+-----------+\n",
      "\n",
      "+-------------+\n",
      "|partition    |\n",
      "+-------------+\n",
      "|dt=2017-07-07|\n",
      "|dt=2017-07-08|\n",
      "|dt=2017-07-09|\n",
      "+-------------+\n",
      "\n"
     ]
    }
   ],
   "source": [
    "spark.sql(\"show tables\").show(10, False)\n",
    "spark.sql(\"show partitions tbl\").show(10, False)"
   ]
  },
  {
   "cell_type": "markdown",
   "metadata": {},
   "source": [
    "### Indexing a Hive Table\n",
    "\n",
    "notice we use `default.sample` as the uri in the Xskipper constructor"
   ]
  },
  {
   "cell_type": "code",
   "execution_count": 29,
   "metadata": {},
   "outputs": [
    {
     "name": "stdout",
     "output_type": "stream",
     "text": [
      "+-------+-----------------+-------------------+\n",
      "|status |new_entries_added|old_entries_removed|\n",
      "+-------+-----------------+-------------------+\n",
      "|SUCCESS|3                |0                  |\n",
      "+-------+-----------------+-------------------+\n",
      "\n"
     ]
    }
   ],
   "source": [
    "# create Xskipper instance for the sample Hive Table\n",
    "xskipper_hive = Xskipper(spark, 'default.tbl')\n",
    "\n",
    "# remove index if exists\n",
    "if xskipper_hive.isIndexed():\n",
    "    xskipper_hive.dropIndex()\n",
    "\n",
    "xskipper_hive.indexBuilder() \\\n",
    "        .addMinMaxIndex(\"temp\") \\\n",
    "        .addValueListIndex(\"city\") \\\n",
    "        .addBloomFilterIndex(\"vid\") \\\n",
    "        .build() \\\n",
    "        .show(10, False)"
   ]
  },
  {
   "cell_type": "markdown",
   "metadata": {},
   "source": [
    "### View the created index status\n",
    "\n",
    "The following code shows how a user can view current index status to check which indexes exist on the dataset and whether the index is up-to-date"
   ]
  },
  {
   "cell_type": "code",
   "execution_count": 30,
   "metadata": {},
   "outputs": [
    {
     "name": "stdout",
     "output_type": "stream",
     "text": [
      "+-------------------------+--------------------------------------------------------------------------------------------------------------------------------------+---------------------------------------------------------------------------+\n",
      "|Data Skipping Index Stats|default.tbl                                                                                                                           |Comment                                                                    |\n",
      "+-------------------------+--------------------------------------------------------------------------------------------------------------------------------------+---------------------------------------------------------------------------+\n",
      "|Status                   |Up to date                                                                                                                            |                                                                           |\n",
      "|Total objects indexed    |3                                                                                                                                     |                                                                           |\n",
      "|# Metadata properties    |                                                                                                                                      |                                                                           |\n",
      "|Metadata location        |cos://guyx27snotebooks-donotdelete-pr-kczcce0t0nsznp.service/metadata/990b4d195857e280dd03b8f703a176b7beadc1a8077ac985e9a4e18ff24de6bc|                                                                           |\n",
      "|# Index information      |                                                                                                                                      |                                                                           |\n",
      "|# Index type             |Columns                                                                                                                               |Params                                                                     |\n",
      "|minmax                   |temp                                                                                                                                  |                                                                           |\n",
      "|valuelist                |city                                                                                                                                  |                                                                           |\n",
      "|bloomfilter              |vid                                                                                                                                   |io.xskipper.index.bloom.fpp -> 0.01 ; io.xskipper.index.bloom.ndv -> 100000|\n",
      "+-------------------------+--------------------------------------------------------------------------------------------------------------------------------------+---------------------------------------------------------------------------+\n",
      "\n"
     ]
    }
   ],
   "source": [
    "xskipper_hive.describeIndex().show(10, False)"
   ]
  },
  {
   "cell_type": "markdown",
   "metadata": {},
   "source": [
    "### Enable/Disable Xskipper\n",
    "\n",
    "Make sure Xskipper is enabled"
   ]
  },
  {
   "cell_type": "code",
   "execution_count": 32,
   "metadata": {},
   "outputs": [],
   "source": [
    "# You can use the following to check whether the Xskipper is enabled\n",
    "if not Xskipper.isEnabled(spark):\n",
    "    Xskipper.enable(spark)"
   ]
  },
  {
   "cell_type": "markdown",
   "metadata": {},
   "source": [
    "## Running Queries\n",
    "\n",
    "Once Xskipper has been enabled you can continue running queries (using either SQL or DataFrame API) regularly and enjoy data skipping."
   ]
  },
  {
   "cell_type": "markdown",
   "metadata": {},
   "source": [
    "### Example query using Min/max index"
   ]
  },
  {
   "cell_type": "code",
   "execution_count": 33,
   "metadata": {},
   "outputs": [
    {
     "name": "stdout",
     "output_type": "stream",
     "text": [
      "+----+----------+---+----------+\n",
      "|temp|city      |vid|dt        |\n",
      "+----+----------+---+----------+\n",
      "|25.0|Beer-Sheva|c  |2017-07-09|\n",
      "|20.0|Tel-Aviv  |a  |2017-07-07|\n",
      "+----+----------+---+----------+\n",
      "\n"
     ]
    }
   ],
   "source": [
    "spark.sql(\"select * from tbl where temp < 30\").show(10, False)"
   ]
  },
  {
   "cell_type": "markdown",
   "metadata": {},
   "source": [
    "##### Inspecting query skipping stats\n",
    "You can inspect the data skipping statistics for the latest query using the following API:"
   ]
  },
  {
   "cell_type": "code",
   "execution_count": 34,
   "metadata": {},
   "outputs": [
    {
     "name": "stdout",
     "output_type": "stream",
     "text": [
      "+-------+-----------+-------------+------------+-----------+----------+\n",
      "|status |isSkippable|skipped_Bytes|skipped_Objs|total_Bytes|total_Objs|\n",
      "+-------+-----------+-------------+------------+-----------+----------+\n",
      "|SUCCESS|true       |903          |1           |2709       |3         |\n",
      "+-------+-----------+-------------+------------+-----------+----------+\n",
      "\n"
     ]
    }
   ],
   "source": [
    "Xskipper.getLatestQueryAggregatedStats(spark).show(10, False)"
   ]
  },
  {
   "cell_type": "markdown",
   "metadata": {},
   "source": [
    "## Index Life Cycle\n",
    "\n",
    "The following operations can be used in order to maintain the index"
   ]
  },
  {
   "cell_type": "markdown",
   "metadata": {},
   "source": [
    "### Refresh Index on Hive Table"
   ]
  },
  {
   "cell_type": "code",
   "execution_count": 36,
   "metadata": {},
   "outputs": [
    {
     "name": "stdout",
     "output_type": "stream",
     "text": [
      "+-------+-----------------+-------------------+\n",
      "|status |new_entries_added|old_entries_removed|\n",
      "+-------+-----------------+-------------------+\n",
      "|SUCCESS|0                |0                  |\n",
      "+-------+-----------------+-------------------+\n",
      "\n"
     ]
    }
   ],
   "source": [
    "xskipper_hive.refreshIndex().show(10, False)"
   ]
  },
  {
   "cell_type": "markdown",
   "metadata": {},
   "source": [
    "### Drop Index\n",
    "\n",
    "In order to drop the index use the following API call:\n",
    "(Dropping the index will also remove the index location from the table properties)"
   ]
  },
  {
   "cell_type": "code",
   "execution_count": 37,
   "metadata": {},
   "outputs": [],
   "source": [
    "xskipper_hive.dropIndex()"
   ]
  }
 ],
 "metadata": {
  "kernelspec": {
   "display_name": "Python 3",
   "language": "python",
   "name": "python3"
  },
  "language_info": {
   "codemirror_mode": {
    "name": "ipython",
    "version": 3
   },
   "file_extension": ".py",
   "mimetype": "text/x-python",
   "name": "python",
   "nbconvert_exporter": "python",
   "pygments_lexer": "ipython3",
   "version": "3.6.9"
  }
 },
 "nbformat": 4,
 "nbformat_minor": 4
}
